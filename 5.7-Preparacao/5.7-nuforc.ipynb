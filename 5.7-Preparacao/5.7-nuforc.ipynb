{
 "cells": [
  {
   "cell_type": "markdown",
   "metadata": {
    "colab_type": "text",
    "id": "view-in-github"
   },
   "source": [
    "<a href=\"https://colab.research.google.com/github/dan-candeira/Nuforc-Project/blob/master/5.7-Preparacao/5.7-nuforc.ipynb\" target=\"_parent\"><img src=\"https://colab.research.google.com/assets/colab-badge.svg\" alt=\"Open In Colab\"/></a>"
   ]
  },
  {
   "cell_type": "code",
   "execution_count": 1,
   "metadata": {
    "colab": {},
    "colab_type": "code",
    "id": "gNnrGSCT_eFv"
   },
   "outputs": [
    {
     "name": "stdout",
     "output_type": "stream",
     "text": [
      "Requirement already satisfied: pandasql in /anaconda3/lib/python3.7/site-packages (0.7.3)\n",
      "Requirement already satisfied: numpy in /anaconda3/lib/python3.7/site-packages (from pandasql) (1.17.2)\n",
      "Requirement already satisfied: pandas in /anaconda3/lib/python3.7/site-packages (from pandasql) (0.25.2)\n",
      "Requirement already satisfied: sqlalchemy in /anaconda3/lib/python3.7/site-packages (from pandasql) (1.3.10)\n",
      "Requirement already satisfied: pytz>=2017.2 in /anaconda3/lib/python3.7/site-packages (from pandas->pandasql) (2019.3)\n",
      "Requirement already satisfied: python-dateutil>=2.6.1 in /anaconda3/lib/python3.7/site-packages (from pandas->pandasql) (2.8.0)\n",
      "Requirement already satisfied: six>=1.5 in /anaconda3/lib/python3.7/site-packages (from python-dateutil>=2.6.1->pandas->pandasql) (1.12.0)\n"
     ]
    }
   ],
   "source": [
    "import pandas as pd\n",
    "! pip install pandasql\n",
    "import pandasql as ps"
   ]
  },
  {
   "cell_type": "markdown",
   "metadata": {
    "colab_type": "text",
    "id": "ZBqk4tS6if3y"
   },
   "source": []
  },
  {
   "cell_type": "code",
   "execution_count": 2,
   "metadata": {
    "colab": {},
    "colab_type": "code",
    "id": "dEwUQTB1igVy"
   },
   "outputs": [],
   "source": [
    "df = pd.read_csv('https://raw.githubusercontent.com/dan-candeira/Nuforc-Project/master/5.2-Coleta/ufoCollection.csv')\\\n",
    ".drop(columns = ['Unnamed: 0'])"
   ]
  },
  {
   "cell_type": "code",
   "execution_count": 3,
   "metadata": {
    "colab": {
     "base_uri": "https://localhost:8080/",
     "height": 310
    },
    "colab_type": "code",
    "id": "VY0HIahtj3K7",
    "outputId": "f55b6aa2-93bf-49df-e82f-e0b8383f9859"
   },
   "outputs": [
    {
     "data": {
      "text/html": [
       "<div>\n",
       "<style scoped>\n",
       "    .dataframe tbody tr th:only-of-type {\n",
       "        vertical-align: middle;\n",
       "    }\n",
       "\n",
       "    .dataframe tbody tr th {\n",
       "        vertical-align: top;\n",
       "    }\n",
       "\n",
       "    .dataframe thead th {\n",
       "        text-align: right;\n",
       "    }\n",
       "</style>\n",
       "<table border=\"1\" class=\"dataframe\">\n",
       "  <thead>\n",
       "    <tr style=\"text-align: right;\">\n",
       "      <th></th>\n",
       "      <th>Date / Time</th>\n",
       "      <th>City</th>\n",
       "      <th>State</th>\n",
       "      <th>Shape</th>\n",
       "      <th>Duration</th>\n",
       "      <th>Summary</th>\n",
       "      <th>Posted</th>\n",
       "    </tr>\n",
       "  </thead>\n",
       "  <tbody>\n",
       "    <tr>\n",
       "      <th>0</th>\n",
       "      <td>9/30/97 22:00</td>\n",
       "      <td>Madison</td>\n",
       "      <td>WI</td>\n",
       "      <td>Light</td>\n",
       "      <td>5 minutes</td>\n",
       "      <td>Strange light inside Lake Monona</td>\n",
       "      <td>3/2/04</td>\n",
       "    </tr>\n",
       "    <tr>\n",
       "      <th>1</th>\n",
       "      <td>9/30/97 20:00</td>\n",
       "      <td>Nova Scotia (Canada)</td>\n",
       "      <td>NS</td>\n",
       "      <td>Light</td>\n",
       "      <td>8-10 seconds.</td>\n",
       "      <td>Single light resembling a star, but moving spu...</td>\n",
       "      <td>10/30/06</td>\n",
       "    </tr>\n",
       "    <tr>\n",
       "      <th>2</th>\n",
       "      <td>9/28/97 23:15</td>\n",
       "      <td>San Francisco</td>\n",
       "      <td>CA</td>\n",
       "      <td>Triangle</td>\n",
       "      <td>12-15s</td>\n",
       "      <td>flying-wing shape outlined by 12-14 lights. Ap...</td>\n",
       "      <td>7/5/99</td>\n",
       "    </tr>\n",
       "    <tr>\n",
       "      <th>3</th>\n",
       "      <td>9/27/97 23:00</td>\n",
       "      <td>Egan</td>\n",
       "      <td>SD</td>\n",
       "      <td>Other</td>\n",
       "      <td>30 minutes</td>\n",
       "      <td>The Weirdest Thing I Have Ever Seen</td>\n",
       "      <td>2/22/05</td>\n",
       "    </tr>\n",
       "    <tr>\n",
       "      <th>4</th>\n",
       "      <td>9/27/97 05:00</td>\n",
       "      <td>Crestwood</td>\n",
       "      <td>KY</td>\n",
       "      <td>Disk</td>\n",
       "      <td>15 minutes</td>\n",
       "      <td>A big disk with red and green lights on the ri...</td>\n",
       "      <td>8/5/01</td>\n",
       "    </tr>\n",
       "  </tbody>\n",
       "</table>\n",
       "</div>"
      ],
      "text/plain": [
       "     Date / Time                  City State     Shape       Duration  \\\n",
       "0  9/30/97 22:00               Madison    WI     Light      5 minutes   \n",
       "1  9/30/97 20:00  Nova Scotia (Canada)    NS     Light  8-10 seconds.   \n",
       "2  9/28/97 23:15         San Francisco    CA  Triangle         12-15s   \n",
       "3  9/27/97 23:00                  Egan    SD     Other     30 minutes   \n",
       "4  9/27/97 05:00             Crestwood    KY      Disk     15 minutes   \n",
       "\n",
       "                                             Summary    Posted  \n",
       "0                   Strange light inside Lake Monona    3/2/04  \n",
       "1  Single light resembling a star, but moving spu...  10/30/06  \n",
       "2  flying-wing shape outlined by 12-14 lights. Ap...    7/5/99  \n",
       "3                The Weirdest Thing I Have Ever Seen   2/22/05  \n",
       "4  A big disk with red and green lights on the ri...    8/5/01  "
      ]
     },
     "execution_count": 3,
     "metadata": {},
     "output_type": "execute_result"
    }
   ],
   "source": [
    "df.head()"
   ]
  },
  {
   "cell_type": "code",
   "execution_count": 4,
   "metadata": {
    "colab": {},
    "colab_type": "code",
    "id": "3z5rL9qbroCH"
   },
   "outputs": [],
   "source": [
    "query = '''\n",
    "  SELECT * FROM df\n",
    "  WHERE State != ''\n",
    "  AND LOWER(State) != 'none'\n",
    "  AND LOWER(Shape) != 'unknown'\n",
    "  AND Shape != ''\n",
    "  AND City != ''\n",
    "  AND LOWER(City) != 'none'\n",
    "  '''\n",
    "clean_df = ps.sqldf(query, locals())"
   ]
  },
  {
   "cell_type": "code",
   "execution_count": 5,
   "metadata": {
    "colab": {
     "base_uri": "https://localhost:8080/",
     "height": 310
    },
    "colab_type": "code",
    "id": "p98xHYLKtSG0",
    "outputId": "15552274-57d4-4e28-affe-c2cafe5077ee"
   },
   "outputs": [
    {
     "data": {
      "text/html": [
       "<div>\n",
       "<style scoped>\n",
       "    .dataframe tbody tr th:only-of-type {\n",
       "        vertical-align: middle;\n",
       "    }\n",
       "\n",
       "    .dataframe tbody tr th {\n",
       "        vertical-align: top;\n",
       "    }\n",
       "\n",
       "    .dataframe thead th {\n",
       "        text-align: right;\n",
       "    }\n",
       "</style>\n",
       "<table border=\"1\" class=\"dataframe\">\n",
       "  <thead>\n",
       "    <tr style=\"text-align: right;\">\n",
       "      <th></th>\n",
       "      <th>Date / Time</th>\n",
       "      <th>City</th>\n",
       "      <th>State</th>\n",
       "      <th>Shape</th>\n",
       "      <th>Duration</th>\n",
       "      <th>Summary</th>\n",
       "      <th>Posted</th>\n",
       "    </tr>\n",
       "  </thead>\n",
       "  <tbody>\n",
       "    <tr>\n",
       "      <th>0</th>\n",
       "      <td>9/30/97 22:00</td>\n",
       "      <td>Madison</td>\n",
       "      <td>WI</td>\n",
       "      <td>Light</td>\n",
       "      <td>5 minutes</td>\n",
       "      <td>Strange light inside Lake Monona</td>\n",
       "      <td>3/2/04</td>\n",
       "    </tr>\n",
       "    <tr>\n",
       "      <th>1</th>\n",
       "      <td>9/30/97 20:00</td>\n",
       "      <td>Nova Scotia (Canada)</td>\n",
       "      <td>NS</td>\n",
       "      <td>Light</td>\n",
       "      <td>8-10 seconds.</td>\n",
       "      <td>Single light resembling a star, but moving spu...</td>\n",
       "      <td>10/30/06</td>\n",
       "    </tr>\n",
       "    <tr>\n",
       "      <th>2</th>\n",
       "      <td>9/28/97 23:15</td>\n",
       "      <td>San Francisco</td>\n",
       "      <td>CA</td>\n",
       "      <td>Triangle</td>\n",
       "      <td>12-15s</td>\n",
       "      <td>flying-wing shape outlined by 12-14 lights. Ap...</td>\n",
       "      <td>7/5/99</td>\n",
       "    </tr>\n",
       "    <tr>\n",
       "      <th>3</th>\n",
       "      <td>9/27/97 23:00</td>\n",
       "      <td>Egan</td>\n",
       "      <td>SD</td>\n",
       "      <td>Other</td>\n",
       "      <td>30 minutes</td>\n",
       "      <td>The Weirdest Thing I Have Ever Seen</td>\n",
       "      <td>2/22/05</td>\n",
       "    </tr>\n",
       "    <tr>\n",
       "      <th>4</th>\n",
       "      <td>9/27/97 05:00</td>\n",
       "      <td>Crestwood</td>\n",
       "      <td>KY</td>\n",
       "      <td>Disk</td>\n",
       "      <td>15 minutes</td>\n",
       "      <td>A big disk with red and green lights on the ri...</td>\n",
       "      <td>8/5/01</td>\n",
       "    </tr>\n",
       "  </tbody>\n",
       "</table>\n",
       "</div>"
      ],
      "text/plain": [
       "     Date / Time                  City State     Shape       Duration  \\\n",
       "0  9/30/97 22:00               Madison    WI     Light      5 minutes   \n",
       "1  9/30/97 20:00  Nova Scotia (Canada)    NS     Light  8-10 seconds.   \n",
       "2  9/28/97 23:15         San Francisco    CA  Triangle         12-15s   \n",
       "3  9/27/97 23:00                  Egan    SD     Other     30 minutes   \n",
       "4  9/27/97 05:00             Crestwood    KY      Disk     15 minutes   \n",
       "\n",
       "                                             Summary    Posted  \n",
       "0                   Strange light inside Lake Monona    3/2/04  \n",
       "1  Single light resembling a star, but moving spu...  10/30/06  \n",
       "2  flying-wing shape outlined by 12-14 lights. Ap...    7/5/99  \n",
       "3                The Weirdest Thing I Have Ever Seen   2/22/05  \n",
       "4  A big disk with red and green lights on the ri...    8/5/01  "
      ]
     },
     "execution_count": 5,
     "metadata": {},
     "output_type": "execute_result"
    }
   ],
   "source": [
    "clean_df.head()"
   ]
  },
  {
   "cell_type": "code",
   "execution_count": 6,
   "metadata": {
    "colab": {},
    "colab_type": "code",
    "id": "pk7sDMo_vqK8"
   },
   "outputs": [],
   "source": [
    "us_states = pd.read_csv('https://raw.githubusercontent.com/dan-candeira/Nuforc-Project/master/5.7-Preparacao/states.csv', sep=';')"
   ]
  },
  {
   "cell_type": "code",
   "execution_count": 7,
   "metadata": {
    "colab": {
     "base_uri": "https://localhost:8080/",
     "height": 206
    },
    "colab_type": "code",
    "id": "ZCobvbu30VC7",
    "outputId": "10e8211f-2634-4183-b3a9-5d4576718fa9"
   },
   "outputs": [
    {
     "data": {
      "text/html": [
       "<div>\n",
       "<style scoped>\n",
       "    .dataframe tbody tr th:only-of-type {\n",
       "        vertical-align: middle;\n",
       "    }\n",
       "\n",
       "    .dataframe tbody tr th {\n",
       "        vertical-align: top;\n",
       "    }\n",
       "\n",
       "    .dataframe thead th {\n",
       "        text-align: right;\n",
       "    }\n",
       "</style>\n",
       "<table border=\"1\" class=\"dataframe\">\n",
       "  <thead>\n",
       "    <tr style=\"text-align: right;\">\n",
       "      <th></th>\n",
       "      <th>State</th>\n",
       "      <th>Abbreviation</th>\n",
       "    </tr>\n",
       "  </thead>\n",
       "  <tbody>\n",
       "    <tr>\n",
       "      <th>0</th>\n",
       "      <td>Alabama</td>\n",
       "      <td>AL</td>\n",
       "    </tr>\n",
       "    <tr>\n",
       "      <th>1</th>\n",
       "      <td>Alaska</td>\n",
       "      <td>AK</td>\n",
       "    </tr>\n",
       "    <tr>\n",
       "      <th>2</th>\n",
       "      <td>Arizona</td>\n",
       "      <td>AZ</td>\n",
       "    </tr>\n",
       "    <tr>\n",
       "      <th>3</th>\n",
       "      <td>Arkansas</td>\n",
       "      <td>AR</td>\n",
       "    </tr>\n",
       "    <tr>\n",
       "      <th>4</th>\n",
       "      <td>California</td>\n",
       "      <td>CA</td>\n",
       "    </tr>\n",
       "  </tbody>\n",
       "</table>\n",
       "</div>"
      ],
      "text/plain": [
       "        State Abbreviation\n",
       "0     Alabama           AL\n",
       "1      Alaska           AK\n",
       "2     Arizona           AZ\n",
       "3    Arkansas           AR\n",
       "4  California           CA"
      ]
     },
     "execution_count": 7,
     "metadata": {},
     "output_type": "execute_result"
    }
   ],
   "source": [
    "us_states.head()"
   ]
  },
  {
   "cell_type": "code",
   "execution_count": 8,
   "metadata": {
    "colab": {},
    "colab_type": "code",
    "id": "Mq19Z57jvKFu"
   },
   "outputs": [],
   "source": [
    "query = '''\n",
    "  SELECT clean_df.* FROM clean_df, us_states\n",
    "  WHERE clean_df.State = Abbreviation\n",
    "'''\n",
    "us_df = ps.sqldf(query, locals())"
   ]
  },
  {
   "cell_type": "code",
   "execution_count": 9,
   "metadata": {
    "colab": {
     "base_uri": "https://localhost:8080/",
     "height": 237
    },
    "colab_type": "code",
    "id": "u_dotIIz3CEk",
    "outputId": "7c29e62a-07c5-4e5e-ee4f-80408b2bf0c6"
   },
   "outputs": [
    {
     "name": "stdout",
     "output_type": "stream",
     "text": [
      "<class 'pandas.core.frame.DataFrame'>\n",
      "RangeIndex: 80174 entries, 0 to 80173\n",
      "Data columns (total 7 columns):\n",
      "Date / Time    80174 non-null object\n",
      "City           80174 non-null object\n",
      "State          80174 non-null object\n",
      "Shape          80174 non-null object\n",
      "Duration       78279 non-null object\n",
      "Summary        80165 non-null object\n",
      "Posted         80172 non-null object\n",
      "dtypes: object(7)\n",
      "memory usage: 4.3+ MB\n"
     ]
    }
   ],
   "source": [
    "us_df.info()"
   ]
  },
  {
   "cell_type": "code",
   "execution_count": 10,
   "metadata": {
    "colab": {},
    "colab_type": "code",
    "id": "Q4Vr6JpmtaxF"
   },
   "outputs": [],
   "source": [
    "new_df = us_df.drop(columns=['Posted', 'Duration', 'Summary'])"
   ]
  },
  {
   "cell_type": "code",
   "execution_count": 11,
   "metadata": {
    "colab": {
     "base_uri": "https://localhost:8080/",
     "height": 206
    },
    "colab_type": "code",
    "id": "wdf0t47Ot6SY",
    "outputId": "7528b6d7-06dc-4ad2-bbe1-e6ff69015834"
   },
   "outputs": [
    {
     "data": {
      "text/html": [
       "<div>\n",
       "<style scoped>\n",
       "    .dataframe tbody tr th:only-of-type {\n",
       "        vertical-align: middle;\n",
       "    }\n",
       "\n",
       "    .dataframe tbody tr th {\n",
       "        vertical-align: top;\n",
       "    }\n",
       "\n",
       "    .dataframe thead th {\n",
       "        text-align: right;\n",
       "    }\n",
       "</style>\n",
       "<table border=\"1\" class=\"dataframe\">\n",
       "  <thead>\n",
       "    <tr style=\"text-align: right;\">\n",
       "      <th></th>\n",
       "      <th>Date / Time</th>\n",
       "      <th>City</th>\n",
       "      <th>State</th>\n",
       "      <th>Shape</th>\n",
       "    </tr>\n",
       "  </thead>\n",
       "  <tbody>\n",
       "    <tr>\n",
       "      <th>0</th>\n",
       "      <td>9/30/97 22:00</td>\n",
       "      <td>Madison</td>\n",
       "      <td>WI</td>\n",
       "      <td>Light</td>\n",
       "    </tr>\n",
       "    <tr>\n",
       "      <th>1</th>\n",
       "      <td>9/28/97 23:15</td>\n",
       "      <td>San Francisco</td>\n",
       "      <td>CA</td>\n",
       "      <td>Triangle</td>\n",
       "    </tr>\n",
       "    <tr>\n",
       "      <th>2</th>\n",
       "      <td>9/27/97 23:00</td>\n",
       "      <td>Egan</td>\n",
       "      <td>SD</td>\n",
       "      <td>Other</td>\n",
       "    </tr>\n",
       "    <tr>\n",
       "      <th>3</th>\n",
       "      <td>9/27/97 05:00</td>\n",
       "      <td>Crestwood</td>\n",
       "      <td>KY</td>\n",
       "      <td>Disk</td>\n",
       "    </tr>\n",
       "    <tr>\n",
       "      <th>4</th>\n",
       "      <td>9/25/97 22:00</td>\n",
       "      <td>Clearfield</td>\n",
       "      <td>UT</td>\n",
       "      <td>Triangle</td>\n",
       "    </tr>\n",
       "  </tbody>\n",
       "</table>\n",
       "</div>"
      ],
      "text/plain": [
       "     Date / Time           City State     Shape\n",
       "0  9/30/97 22:00        Madison    WI     Light\n",
       "1  9/28/97 23:15  San Francisco    CA  Triangle\n",
       "2  9/27/97 23:00           Egan    SD     Other\n",
       "3  9/27/97 05:00      Crestwood    KY      Disk\n",
       "4  9/25/97 22:00     Clearfield    UT  Triangle"
      ]
     },
     "execution_count": 11,
     "metadata": {},
     "output_type": "execute_result"
    }
   ],
   "source": [
    "new_df.head()"
   ]
  },
  {
   "cell_type": "code",
   "execution_count": 12,
   "metadata": {
    "colab": {
     "base_uri": "https://localhost:8080/",
     "height": 182
    },
    "colab_type": "code",
    "id": "ikVZE8i63gGA",
    "outputId": "254a6b60-0ba4-4919-af68-a7568484386e"
   },
   "outputs": [
    {
     "name": "stdout",
     "output_type": "stream",
     "text": [
      "<class 'pandas.core.frame.DataFrame'>\n",
      "RangeIndex: 80174 entries, 0 to 80173\n",
      "Data columns (total 4 columns):\n",
      "Date / Time    80174 non-null object\n",
      "City           80174 non-null object\n",
      "State          80174 non-null object\n",
      "Shape          80174 non-null object\n",
      "dtypes: object(4)\n",
      "memory usage: 2.4+ MB\n"
     ]
    }
   ],
   "source": [
    "new_df.info()"
   ]
  },
  {
   "cell_type": "code",
   "execution_count": 13,
   "metadata": {
    "colab": {},
    "colab_type": "code",
    "id": "IKrq95Xx4eeY"
   },
   "outputs": [],
   "source": [
    "query = '''\n",
    "  SELECT Shape, COUNT(Shape) as views FROM new_df\n",
    "  GROUP BY Shape\n",
    "  HAVING views > 1000\n",
    "'''\n",
    "\n",
    "popular_shapes = ps.sqldf(query, locals())"
   ]
  },
  {
   "cell_type": "code",
   "execution_count": 14,
   "metadata": {
    "colab": {
     "base_uri": "https://localhost:8080/",
     "height": 206
    },
    "colab_type": "code",
    "id": "bQZSMnLL5Q6M",
    "outputId": "2bdc9c93-ae74-434b-dd43-d133700c869f"
   },
   "outputs": [
    {
     "data": {
      "text/html": [
       "<div>\n",
       "<style scoped>\n",
       "    .dataframe tbody tr th:only-of-type {\n",
       "        vertical-align: middle;\n",
       "    }\n",
       "\n",
       "    .dataframe tbody tr th {\n",
       "        vertical-align: top;\n",
       "    }\n",
       "\n",
       "    .dataframe thead th {\n",
       "        text-align: right;\n",
       "    }\n",
       "</style>\n",
       "<table border=\"1\" class=\"dataframe\">\n",
       "  <thead>\n",
       "    <tr style=\"text-align: right;\">\n",
       "      <th></th>\n",
       "      <th>Shape</th>\n",
       "      <th>views</th>\n",
       "    </tr>\n",
       "  </thead>\n",
       "  <tbody>\n",
       "    <tr>\n",
       "      <th>0</th>\n",
       "      <td>Changing</td>\n",
       "      <td>2275</td>\n",
       "    </tr>\n",
       "    <tr>\n",
       "      <th>1</th>\n",
       "      <td>Chevron</td>\n",
       "      <td>1041</td>\n",
       "    </tr>\n",
       "    <tr>\n",
       "      <th>2</th>\n",
       "      <td>Cigar</td>\n",
       "      <td>1896</td>\n",
       "    </tr>\n",
       "    <tr>\n",
       "      <th>3</th>\n",
       "      <td>Circle</td>\n",
       "      <td>9315</td>\n",
       "    </tr>\n",
       "    <tr>\n",
       "      <th>4</th>\n",
       "      <td>Cylinder</td>\n",
       "      <td>1370</td>\n",
       "    </tr>\n",
       "  </tbody>\n",
       "</table>\n",
       "</div>"
      ],
      "text/plain": [
       "      Shape  views\n",
       "0  Changing   2275\n",
       "1   Chevron   1041\n",
       "2     Cigar   1896\n",
       "3    Circle   9315\n",
       "4  Cylinder   1370"
      ]
     },
     "execution_count": 14,
     "metadata": {},
     "output_type": "execute_result"
    }
   ],
   "source": [
    "popular_shapes.head()"
   ]
  },
  {
   "cell_type": "code",
   "execution_count": null,
   "metadata": {
    "colab": {},
    "colab_type": "code",
    "id": "dGguC3lp5XFu"
   },
   "outputs": [],
   "source": [
    "query = '''\n",
    "  SELECT new_df.* FROM new_df, popular_shapes\n",
    "  WHERE new_df.Shape = popular_shapes.Shape\n",
    "'''\n",
    "final_df = ps.sqldf(query, locals())"
   ]
  },
  {
   "cell_type": "code",
   "execution_count": null,
   "metadata": {
    "colab": {
     "base_uri": "https://localhost:8080/",
     "height": 219
    },
    "colab_type": "code",
    "id": "vYFHBds15-ab",
    "outputId": "7f7317c0-f411-48e4-bd71-f93bf6cddcbb"
   },
   "outputs": [],
   "source": [
    "final_df.info()"
   ]
  },
  {
   "cell_type": "code",
   "execution_count": null,
   "metadata": {
    "colab": {},
    "colab_type": "code",
    "id": "EfgcXfVz585e"
   },
   "outputs": [],
   "source": [
    "final_df.to_csv('df_OVNI_limpo.csv')"
   ]
  }
 ],
 "metadata": {
  "colab": {
   "include_colab_link": true,
   "name": "5.7-nuforc.ipynb",
   "provenance": []
  },
  "kernelspec": {
   "display_name": "Python 3",
   "language": "python",
   "name": "python3"
  },
  "language_info": {
   "codemirror_mode": {
    "name": "ipython",
    "version": 3
   },
   "file_extension": ".py",
   "mimetype": "text/x-python",
   "name": "python",
   "nbconvert_exporter": "python",
   "pygments_lexer": "ipython3",
   "version": "3.7.3"
  }
 },
 "nbformat": 4,
 "nbformat_minor": 1
}
