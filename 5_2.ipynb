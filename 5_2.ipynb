{
  "nbformat": 4,
  "nbformat_minor": 0,
  "metadata": {
    "colab": {
      "name": "5_2.ipynb",
      "provenance": [],
      "collapsed_sections": [],
      "include_colab_link": true
    },
    "kernelspec": {
      "name": "python3",
      "display_name": "Python 3"
    }
  },
  "cells": [
    {
      "cell_type": "markdown",
      "metadata": {
        "id": "view-in-github",
        "colab_type": "text"
      },
      "source": [
        "<a href=\"https://colab.research.google.com/github/dan-candeira/DataScience/blob/master/5_2.ipynb\" target=\"_parent\"><img src=\"https://colab.research.google.com/assets/colab-badge.svg\" alt=\"Open In Colab\"/></a>"
      ]
    },
    {
      "cell_type": "markdown",
      "metadata": {
        "id": "4sZw6gj5QVZ1",
        "colab_type": "text"
      },
      "source": [
        "#### Desenvolva um script Python para executar a coleta de dados dos vinte anos, entre setembro 1997 e setembro de 2017. Coloque tudo em um DataFrame e depois salve em um arquivo .csv."
      ]
    },
    {
      "cell_type": "code",
      "metadata": {
        "id": "J_r4tWuiKuRj",
        "colab_type": "code",
        "colab": {}
      },
      "source": [
        "import requests\n",
        "from bs4 import BeautifulSoup\n",
        "import pandas as pd"
      ],
      "execution_count": 0,
      "outputs": []
    },
    {
      "cell_type": "markdown",
      "metadata": {
        "id": "aEVT7efpLtS_",
        "colab_type": "text"
      },
      "source": [
        ""
      ]
    },
    {
      "cell_type": "code",
      "metadata": {
        "id": "hRja3OXKMkDG",
        "colab_type": "code",
        "colab": {}
      },
      "source": [
        "def web_scrapper(url, tupla):\n",
        "\n",
        "  for year in range(tupla[0], tupla[1]):\n",
        "    columns = []\n",
        "    data = date_time = city = state = shape = []\n",
        "    request = requests.get(url + str(year) +\".html\")\n",
        "    soup = BeautifulSoup(request.content, 'html.parser')\n",
        "    \n",
        "    for tag_font in soup.findAll('font'):\n",
        "      if tag_font.parent.name == 'th':\n",
        "        columns.append(tag_font.contents[0])\n",
        "      elif tag_font.parent.name == 'td':\n",
        "        data.append(tag_font.contents[0])\n",
        "    print(columns)\n",
        "    # df = pd.DataFrame(data=data, columns=columns)\n",
        "    # df.to_csv(str(year))\n"
      ],
      "execution_count": 0,
      "outputs": []
    },
    {
      "cell_type": "markdown",
      "metadata": {
        "id": "bWcrSMH_zaRp",
        "colab_type": "text"
      },
      "source": [
        ""
      ]
    },
    {
      "cell_type": "code",
      "metadata": {
        "id": "XdAUz7znza0Z",
        "colab_type": "code",
        "colab": {
          "base_uri": "https://localhost:8080/",
          "height": 121
        },
        "outputId": "c2306815-0409-4a7d-82f3-31dddb746407"
      },
      "source": [
        "web_scrapper(\"http://www.nuforc.org/webreports/ndxe\", (199709, 199712))"
      ],
      "execution_count": 94,
      "outputs": [
        {
          "output_type": "stream",
          "text": [
            "['Date / Time', 'City', 'State', 'Shape', 'Duration', 'Summary', 'Posted']\n",
            "============================================================\n",
            "['Date / Time', 'City', 'State', 'Shape', 'Duration', 'Summary', 'Posted']\n",
            "============================================================\n",
            "['Date / Time', 'City', 'State', 'Shape', 'Duration', 'Summary', 'Posted']\n",
            "============================================================\n"
          ],
          "name": "stdout"
        }
      ]
    }
  ]
}