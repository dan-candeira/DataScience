{
  "nbformat": 4,
  "nbformat_minor": 0,
  "metadata": {
    "colab": {
      "name": "5.2-nuforc.ipynb",
      "provenance": [],
      "collapsed_sections": [],
      "toc_visible": true,
      "include_colab_link": true
    },
    "kernelspec": {
      "name": "python3",
      "display_name": "Python 3"
    },
    "accelerator": "GPU"
  },
  "cells": [
    {
      "cell_type": "markdown",
      "metadata": {
        "id": "view-in-github",
        "colab_type": "text"
      },
      "source": [
        "<a href=\"https://colab.research.google.com/github/dan-candeira/Nuforc-Project/blob/master/5_2_nuforc.ipynb\" target=\"_parent\"><img src=\"https://colab.research.google.com/assets/colab-badge.svg\" alt=\"Open In Colab\"/></a>"
      ]
    },
    {
      "cell_type": "markdown",
      "metadata": {
        "id": "4sZw6gj5QVZ1",
        "colab_type": "text"
      },
      "source": [
        "#### Desenvolva um script Python para executar a coleta de dados dos vinte anos, entre setembro 1997 e agosto de 2017. Coloque tudo em um DataFrame e depois salve em um arquivo .csv."
      ]
    },
    {
      "cell_type": "code",
      "metadata": {
        "id": "J_r4tWuiKuRj",
        "colab_type": "code",
        "colab": {}
      },
      "source": [
        "import requests\n",
        "from bs4 import BeautifulSoup\n",
        "import pandas as pd\n",
        "import time"
      ],
      "execution_count": 0,
      "outputs": []
    },
    {
      "cell_type": "markdown",
      "metadata": {
        "id": "aEVT7efpLtS_",
        "colab_type": "text"
      },
      "source": [
        "#### Criando função "
      ]
    },
    {
      "cell_type": "code",
      "metadata": {
        "id": "6KjSNow6pIW5",
        "colab_type": "code",
        "colab": {}
      },
      "source": [
        "# adicionar sleep function between each iteration\n",
        "def web_scraper(url, tupla):\n",
        "  df = pd.DataFrame()\n",
        "  for year_month in range(tupla[0], tupla[1]):\n",
        "    month = str(year_month)[4:]\n",
        "    if not month == '00' and int(month) <= 12:\n",
        "      request = requests.get('{}{}.html'.format(url, str(year_month))).text\n",
        "      soup = BeautifulSoup(request, 'html.parser')\n",
        "      table = soup.find_all('table')[0]\n",
        "      df_tmp = pd.read_html(str(table))[0]\n",
        "      df = pd.concat([df, df_tmp],ignore_index=True)\n",
        "      time.sleep(5)\n",
        "  return df"
      ],
      "execution_count": 0,
      "outputs": []
    },
    {
      "cell_type": "markdown",
      "metadata": {
        "id": "bWcrSMH_zaRp",
        "colab_type": "text"
      },
      "source": [
        "#### Chamando função "
      ]
    },
    {
      "cell_type": "code",
      "metadata": {
        "id": "XdAUz7znza0Z",
        "colab_type": "code",
        "colab": {}
      },
      "source": [
        "df = web_scraper(\"http://www.nuforc.org/webreports/ndxe\", (199710, 201710))\n",
        "df.to_csv('ufoCollect.csv')"
      ],
      "execution_count": 0,
      "outputs": []
    }
  ]
}