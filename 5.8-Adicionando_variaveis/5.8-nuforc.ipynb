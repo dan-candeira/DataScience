{
 "cells": [
  {
   "cell_type": "markdown",
   "metadata": {
    "colab_type": "text",
    "id": "view-in-github"
   },
   "source": [
    "<a href=\"https://colab.research.google.com/github/dan-candeira/Nuforc-Project/blob/master/5.8-Adicionando_variaveis/5.8-nuforc.ipynb\" target=\"_parent\"><img src=\"https://colab.research.google.com/assets/colab-badge.svg\" alt=\"Open In Colab\"/></a>"
   ]
  },
  {
   "cell_type": "code",
   "execution_count": 2,
   "metadata": {
    "colab": {},
    "colab_type": "code",
    "id": "9p5UINleHFZi"
   },
   "outputs": [],
   "source": [
    "import pandas as pd"
   ]
  },
  {
   "cell_type": "code",
   "execution_count": 3,
   "metadata": {
    "colab": {},
    "colab_type": "code",
    "id": "fv6cqZLlIzEG"
   },
   "outputs": [],
   "source": [
    "df = pd.read_csv(\n",
    "    'https://raw.githubusercontent.com/dan-candeira/Nuforc-Project/master/5.7-Preparacao/df_OVNI_limpo.csv', \n",
    "    index_col=0)"
   ]
  },
  {
   "cell_type": "code",
   "execution_count": 4,
   "metadata": {
    "colab": {},
    "colab_type": "code",
    "id": "OrrTYcm-NSOC"
   },
   "outputs": [],
   "source": [
    "#https://www.geeksforgeeks.org/python-pandas-split-strings-into-two-list-columns-using-str-split/\n",
    "datetime = df['Date / Time'].str.split(\" \", n = 1, expand = True) "
   ]
  },
  {
   "cell_type": "code",
   "execution_count": 5,
   "metadata": {
    "colab": {
     "base_uri": "https://localhost:8080/",
     "height": 206
    },
    "colab_type": "code",
    "id": "b4bssSagax1i",
    "outputId": "c6f99a9b-20d8-4f6a-c3a9-c3397da4188e"
   },
   "outputs": [
    {
     "data": {
      "text/html": [
       "<div>\n",
       "<style scoped>\n",
       "    .dataframe tbody tr th:only-of-type {\n",
       "        vertical-align: middle;\n",
       "    }\n",
       "\n",
       "    .dataframe tbody tr th {\n",
       "        vertical-align: top;\n",
       "    }\n",
       "\n",
       "    .dataframe thead th {\n",
       "        text-align: right;\n",
       "    }\n",
       "</style>\n",
       "<table border=\"1\" class=\"dataframe\">\n",
       "  <thead>\n",
       "    <tr style=\"text-align: right;\">\n",
       "      <th></th>\n",
       "      <th>0</th>\n",
       "      <th>1</th>\n",
       "    </tr>\n",
       "  </thead>\n",
       "  <tbody>\n",
       "    <tr>\n",
       "      <th>0</th>\n",
       "      <td>9/30/97</td>\n",
       "      <td>22:00</td>\n",
       "    </tr>\n",
       "    <tr>\n",
       "      <th>1</th>\n",
       "      <td>9/28/97</td>\n",
       "      <td>23:15</td>\n",
       "    </tr>\n",
       "    <tr>\n",
       "      <th>2</th>\n",
       "      <td>9/27/97</td>\n",
       "      <td>23:00</td>\n",
       "    </tr>\n",
       "    <tr>\n",
       "      <th>3</th>\n",
       "      <td>9/27/97</td>\n",
       "      <td>05:00</td>\n",
       "    </tr>\n",
       "    <tr>\n",
       "      <th>4</th>\n",
       "      <td>9/25/97</td>\n",
       "      <td>22:00</td>\n",
       "    </tr>\n",
       "  </tbody>\n",
       "</table>\n",
       "</div>"
      ],
      "text/plain": [
       "         0      1\n",
       "0  9/30/97  22:00\n",
       "1  9/28/97  23:15\n",
       "2  9/27/97  23:00\n",
       "3  9/27/97  05:00\n",
       "4  9/25/97  22:00"
      ]
     },
     "execution_count": 5,
     "metadata": {},
     "output_type": "execute_result"
    }
   ],
   "source": [
    "datetime.head()"
   ]
  },
  {
   "cell_type": "code",
   "execution_count": 6,
   "metadata": {
    "colab": {},
    "colab_type": "code",
    "id": "NsCy4S6pWwLY"
   },
   "outputs": [],
   "source": [
    "df['Sight_Date'] = datetime[0]\n",
    "df['Sight_Time'] = datetime[1]"
   ]
  },
  {
   "cell_type": "code",
   "execution_count": 7,
   "metadata": {
    "colab": {
     "base_uri": "https://localhost:8080/",
     "height": 206
    },
    "colab_type": "code",
    "id": "l_ehiVHRa14C",
    "outputId": "90ae8895-5f84-4102-decb-3d477d251632"
   },
   "outputs": [
    {
     "data": {
      "text/html": [
       "<div>\n",
       "<style scoped>\n",
       "    .dataframe tbody tr th:only-of-type {\n",
       "        vertical-align: middle;\n",
       "    }\n",
       "\n",
       "    .dataframe tbody tr th {\n",
       "        vertical-align: top;\n",
       "    }\n",
       "\n",
       "    .dataframe thead th {\n",
       "        text-align: right;\n",
       "    }\n",
       "</style>\n",
       "<table border=\"1\" class=\"dataframe\">\n",
       "  <thead>\n",
       "    <tr style=\"text-align: right;\">\n",
       "      <th></th>\n",
       "      <th>Date / Time</th>\n",
       "      <th>City</th>\n",
       "      <th>State</th>\n",
       "      <th>Shape</th>\n",
       "      <th>Sight_Date</th>\n",
       "      <th>Sight_Time</th>\n",
       "    </tr>\n",
       "  </thead>\n",
       "  <tbody>\n",
       "    <tr>\n",
       "      <th>0</th>\n",
       "      <td>9/30/97 22:00</td>\n",
       "      <td>Madison</td>\n",
       "      <td>WI</td>\n",
       "      <td>Light</td>\n",
       "      <td>9/30/97</td>\n",
       "      <td>22:00</td>\n",
       "    </tr>\n",
       "    <tr>\n",
       "      <th>1</th>\n",
       "      <td>9/28/97 23:15</td>\n",
       "      <td>San Francisco</td>\n",
       "      <td>CA</td>\n",
       "      <td>Triangle</td>\n",
       "      <td>9/28/97</td>\n",
       "      <td>23:15</td>\n",
       "    </tr>\n",
       "    <tr>\n",
       "      <th>2</th>\n",
       "      <td>9/27/97 23:00</td>\n",
       "      <td>Egan</td>\n",
       "      <td>SD</td>\n",
       "      <td>Other</td>\n",
       "      <td>9/27/97</td>\n",
       "      <td>23:00</td>\n",
       "    </tr>\n",
       "    <tr>\n",
       "      <th>3</th>\n",
       "      <td>9/27/97 05:00</td>\n",
       "      <td>Crestwood</td>\n",
       "      <td>KY</td>\n",
       "      <td>Disk</td>\n",
       "      <td>9/27/97</td>\n",
       "      <td>05:00</td>\n",
       "    </tr>\n",
       "    <tr>\n",
       "      <th>4</th>\n",
       "      <td>9/25/97 22:00</td>\n",
       "      <td>Clearfield</td>\n",
       "      <td>UT</td>\n",
       "      <td>Triangle</td>\n",
       "      <td>9/25/97</td>\n",
       "      <td>22:00</td>\n",
       "    </tr>\n",
       "  </tbody>\n",
       "</table>\n",
       "</div>"
      ],
      "text/plain": [
       "     Date / Time           City State     Shape Sight_Date Sight_Time\n",
       "0  9/30/97 22:00        Madison    WI     Light    9/30/97      22:00\n",
       "1  9/28/97 23:15  San Francisco    CA  Triangle    9/28/97      23:15\n",
       "2  9/27/97 23:00           Egan    SD     Other    9/27/97      23:00\n",
       "3  9/27/97 05:00      Crestwood    KY      Disk    9/27/97      05:00\n",
       "4  9/25/97 22:00     Clearfield    UT  Triangle    9/25/97      22:00"
      ]
     },
     "execution_count": 7,
     "metadata": {},
     "output_type": "execute_result"
    }
   ],
   "source": [
    "df.head()"
   ]
  },
  {
   "cell_type": "code",
   "execution_count": 8,
   "metadata": {
    "colab": {},
    "colab_type": "code",
    "id": "Z9YSwNJGXNLR"
   },
   "outputs": [],
   "source": [
    "del df['Date / Time']"
   ]
  },
  {
   "cell_type": "code",
   "execution_count": 9,
   "metadata": {
    "colab": {
     "base_uri": "https://localhost:8080/",
     "height": 206
    },
    "colab_type": "code",
    "id": "KSKsxAftarxL",
    "outputId": "2c283656-1097-4c61-f33b-007afeaea69b"
   },
   "outputs": [
    {
     "data": {
      "text/html": [
       "<div>\n",
       "<style scoped>\n",
       "    .dataframe tbody tr th:only-of-type {\n",
       "        vertical-align: middle;\n",
       "    }\n",
       "\n",
       "    .dataframe tbody tr th {\n",
       "        vertical-align: top;\n",
       "    }\n",
       "\n",
       "    .dataframe thead th {\n",
       "        text-align: right;\n",
       "    }\n",
       "</style>\n",
       "<table border=\"1\" class=\"dataframe\">\n",
       "  <thead>\n",
       "    <tr style=\"text-align: right;\">\n",
       "      <th></th>\n",
       "      <th>City</th>\n",
       "      <th>State</th>\n",
       "      <th>Shape</th>\n",
       "      <th>Sight_Date</th>\n",
       "      <th>Sight_Time</th>\n",
       "    </tr>\n",
       "  </thead>\n",
       "  <tbody>\n",
       "    <tr>\n",
       "      <th>0</th>\n",
       "      <td>Madison</td>\n",
       "      <td>WI</td>\n",
       "      <td>Light</td>\n",
       "      <td>9/30/97</td>\n",
       "      <td>22:00</td>\n",
       "    </tr>\n",
       "    <tr>\n",
       "      <th>1</th>\n",
       "      <td>San Francisco</td>\n",
       "      <td>CA</td>\n",
       "      <td>Triangle</td>\n",
       "      <td>9/28/97</td>\n",
       "      <td>23:15</td>\n",
       "    </tr>\n",
       "    <tr>\n",
       "      <th>2</th>\n",
       "      <td>Egan</td>\n",
       "      <td>SD</td>\n",
       "      <td>Other</td>\n",
       "      <td>9/27/97</td>\n",
       "      <td>23:00</td>\n",
       "    </tr>\n",
       "    <tr>\n",
       "      <th>3</th>\n",
       "      <td>Crestwood</td>\n",
       "      <td>KY</td>\n",
       "      <td>Disk</td>\n",
       "      <td>9/27/97</td>\n",
       "      <td>05:00</td>\n",
       "    </tr>\n",
       "    <tr>\n",
       "      <th>4</th>\n",
       "      <td>Clearfield</td>\n",
       "      <td>UT</td>\n",
       "      <td>Triangle</td>\n",
       "      <td>9/25/97</td>\n",
       "      <td>22:00</td>\n",
       "    </tr>\n",
       "  </tbody>\n",
       "</table>\n",
       "</div>"
      ],
      "text/plain": [
       "            City State     Shape Sight_Date Sight_Time\n",
       "0        Madison    WI     Light    9/30/97      22:00\n",
       "1  San Francisco    CA  Triangle    9/28/97      23:15\n",
       "2           Egan    SD     Other    9/27/97      23:00\n",
       "3      Crestwood    KY      Disk    9/27/97      05:00\n",
       "4     Clearfield    UT  Triangle    9/25/97      22:00"
      ]
     },
     "execution_count": 9,
     "metadata": {},
     "output_type": "execute_result"
    }
   ],
   "source": [
    "df.head()"
   ]
  },
  {
   "cell_type": "code",
   "execution_count": 10,
   "metadata": {
    "colab": {},
    "colab_type": "code",
    "id": "Y0lxyMKLZb7L"
   },
   "outputs": [],
   "source": [
    "weekday={\n",
    "    0: 'Segunda-feira',\n",
    "    1: 'Terça-feira',\n",
    "    2: 'Quarta-feira',\n",
    "    3: 'Quinta-feira',\n",
    "    4: 'Sexta-feira',\n",
    "    5: 'Sábado',\n",
    "    6: 'Domingo'}"
   ]
  },
  {
   "cell_type": "code",
   "execution_count": 11,
   "metadata": {
    "colab": {},
    "colab_type": "code",
    "id": "ezgWqAGnX6_h"
   },
   "outputs": [],
   "source": [
    "#https://stackoverflow.com/questions/29096381/num-day-to-name-day-with-pandas\n",
    "df['Sight_Weekday'] = pd.to_datetime(df['Sight_Date']).dt.dayofweek.map(weekday)"
   ]
  },
  {
   "cell_type": "code",
   "execution_count": 12,
   "metadata": {
    "colab": {
     "base_uri": "https://localhost:8080/",
     "height": 206
    },
    "colab_type": "code",
    "id": "5SHlxxKu1Z_e",
    "outputId": "002da919-9650-4694-e6b5-e8b14c6e97c0"
   },
   "outputs": [
    {
     "data": {
      "text/html": [
       "<div>\n",
       "<style scoped>\n",
       "    .dataframe tbody tr th:only-of-type {\n",
       "        vertical-align: middle;\n",
       "    }\n",
       "\n",
       "    .dataframe tbody tr th {\n",
       "        vertical-align: top;\n",
       "    }\n",
       "\n",
       "    .dataframe thead th {\n",
       "        text-align: right;\n",
       "    }\n",
       "</style>\n",
       "<table border=\"1\" class=\"dataframe\">\n",
       "  <thead>\n",
       "    <tr style=\"text-align: right;\">\n",
       "      <th></th>\n",
       "      <th>City</th>\n",
       "      <th>State</th>\n",
       "      <th>Shape</th>\n",
       "      <th>Sight_Date</th>\n",
       "      <th>Sight_Time</th>\n",
       "      <th>Sight_Weekday</th>\n",
       "    </tr>\n",
       "  </thead>\n",
       "  <tbody>\n",
       "    <tr>\n",
       "      <th>0</th>\n",
       "      <td>Madison</td>\n",
       "      <td>WI</td>\n",
       "      <td>Light</td>\n",
       "      <td>9/30/97</td>\n",
       "      <td>22:00</td>\n",
       "      <td>Terça-feira</td>\n",
       "    </tr>\n",
       "    <tr>\n",
       "      <th>1</th>\n",
       "      <td>San Francisco</td>\n",
       "      <td>CA</td>\n",
       "      <td>Triangle</td>\n",
       "      <td>9/28/97</td>\n",
       "      <td>23:15</td>\n",
       "      <td>Domingo</td>\n",
       "    </tr>\n",
       "    <tr>\n",
       "      <th>2</th>\n",
       "      <td>Egan</td>\n",
       "      <td>SD</td>\n",
       "      <td>Other</td>\n",
       "      <td>9/27/97</td>\n",
       "      <td>23:00</td>\n",
       "      <td>Sábado</td>\n",
       "    </tr>\n",
       "    <tr>\n",
       "      <th>3</th>\n",
       "      <td>Crestwood</td>\n",
       "      <td>KY</td>\n",
       "      <td>Disk</td>\n",
       "      <td>9/27/97</td>\n",
       "      <td>05:00</td>\n",
       "      <td>Sábado</td>\n",
       "    </tr>\n",
       "    <tr>\n",
       "      <th>4</th>\n",
       "      <td>Clearfield</td>\n",
       "      <td>UT</td>\n",
       "      <td>Triangle</td>\n",
       "      <td>9/25/97</td>\n",
       "      <td>22:00</td>\n",
       "      <td>Quinta-feira</td>\n",
       "    </tr>\n",
       "  </tbody>\n",
       "</table>\n",
       "</div>"
      ],
      "text/plain": [
       "            City State     Shape Sight_Date Sight_Time Sight_Weekday\n",
       "0        Madison    WI     Light    9/30/97      22:00   Terça-feira\n",
       "1  San Francisco    CA  Triangle    9/28/97      23:15       Domingo\n",
       "2           Egan    SD     Other    9/27/97      23:00        Sábado\n",
       "3      Crestwood    KY      Disk    9/27/97      05:00        Sábado\n",
       "4     Clearfield    UT  Triangle    9/25/97      22:00  Quinta-feira"
      ]
     },
     "execution_count": 12,
     "metadata": {},
     "output_type": "execute_result"
    }
   ],
   "source": [
    "df.head()"
   ]
  },
  {
   "cell_type": "code",
   "execution_count": 13,
   "metadata": {
    "colab": {},
    "colab_type": "code",
    "id": "YDc-HB1MZFF7"
   },
   "outputs": [],
   "source": [
    "day_month = df['Sight_Date'].str.split(\"/\", n = 2, expand = True) "
   ]
  },
  {
   "cell_type": "code",
   "execution_count": 14,
   "metadata": {
    "colab": {
     "base_uri": "https://localhost:8080/",
     "height": 206
    },
    "colab_type": "code",
    "id": "f17l3q3H2rMg",
    "outputId": "e2acfcff-c3d0-425c-a776-48d6de91fd05"
   },
   "outputs": [
    {
     "data": {
      "text/html": [
       "<div>\n",
       "<style scoped>\n",
       "    .dataframe tbody tr th:only-of-type {\n",
       "        vertical-align: middle;\n",
       "    }\n",
       "\n",
       "    .dataframe tbody tr th {\n",
       "        vertical-align: top;\n",
       "    }\n",
       "\n",
       "    .dataframe thead th {\n",
       "        text-align: right;\n",
       "    }\n",
       "</style>\n",
       "<table border=\"1\" class=\"dataframe\">\n",
       "  <thead>\n",
       "    <tr style=\"text-align: right;\">\n",
       "      <th></th>\n",
       "      <th>0</th>\n",
       "      <th>1</th>\n",
       "      <th>2</th>\n",
       "    </tr>\n",
       "  </thead>\n",
       "  <tbody>\n",
       "    <tr>\n",
       "      <th>0</th>\n",
       "      <td>9</td>\n",
       "      <td>30</td>\n",
       "      <td>97</td>\n",
       "    </tr>\n",
       "    <tr>\n",
       "      <th>1</th>\n",
       "      <td>9</td>\n",
       "      <td>28</td>\n",
       "      <td>97</td>\n",
       "    </tr>\n",
       "    <tr>\n",
       "      <th>2</th>\n",
       "      <td>9</td>\n",
       "      <td>27</td>\n",
       "      <td>97</td>\n",
       "    </tr>\n",
       "    <tr>\n",
       "      <th>3</th>\n",
       "      <td>9</td>\n",
       "      <td>27</td>\n",
       "      <td>97</td>\n",
       "    </tr>\n",
       "    <tr>\n",
       "      <th>4</th>\n",
       "      <td>9</td>\n",
       "      <td>25</td>\n",
       "      <td>97</td>\n",
       "    </tr>\n",
       "  </tbody>\n",
       "</table>\n",
       "</div>"
      ],
      "text/plain": [
       "   0   1   2\n",
       "0  9  30  97\n",
       "1  9  28  97\n",
       "2  9  27  97\n",
       "3  9  27  97\n",
       "4  9  25  97"
      ]
     },
     "execution_count": 14,
     "metadata": {},
     "output_type": "execute_result"
    }
   ],
   "source": [
    "day_month.head()"
   ]
  },
  {
   "cell_type": "code",
   "execution_count": 15,
   "metadata": {
    "colab": {},
    "colab_type": "code",
    "id": "KEsQYQXu2x1d"
   },
   "outputs": [],
   "source": [
    "df['Sight_Day'] = day_month[1]\n",
    "df['Sight_Month'] = day_month[0]"
   ]
  },
  {
   "cell_type": "code",
   "execution_count": 16,
   "metadata": {
    "colab": {
     "base_uri": "https://localhost:8080/",
     "height": 206
    },
    "colab_type": "code",
    "id": "it21nR073IBw",
    "outputId": "bb703c76-2ced-406a-b4c7-76cd399a7a7c"
   },
   "outputs": [
    {
     "data": {
      "text/html": [
       "<div>\n",
       "<style scoped>\n",
       "    .dataframe tbody tr th:only-of-type {\n",
       "        vertical-align: middle;\n",
       "    }\n",
       "\n",
       "    .dataframe tbody tr th {\n",
       "        vertical-align: top;\n",
       "    }\n",
       "\n",
       "    .dataframe thead th {\n",
       "        text-align: right;\n",
       "    }\n",
       "</style>\n",
       "<table border=\"1\" class=\"dataframe\">\n",
       "  <thead>\n",
       "    <tr style=\"text-align: right;\">\n",
       "      <th></th>\n",
       "      <th>City</th>\n",
       "      <th>State</th>\n",
       "      <th>Shape</th>\n",
       "      <th>Sight_Date</th>\n",
       "      <th>Sight_Time</th>\n",
       "      <th>Sight_Weekday</th>\n",
       "      <th>Sight_Day</th>\n",
       "      <th>Sight_Month</th>\n",
       "    </tr>\n",
       "  </thead>\n",
       "  <tbody>\n",
       "    <tr>\n",
       "      <th>0</th>\n",
       "      <td>Madison</td>\n",
       "      <td>WI</td>\n",
       "      <td>Light</td>\n",
       "      <td>9/30/97</td>\n",
       "      <td>22:00</td>\n",
       "      <td>Terça-feira</td>\n",
       "      <td>30</td>\n",
       "      <td>9</td>\n",
       "    </tr>\n",
       "    <tr>\n",
       "      <th>1</th>\n",
       "      <td>San Francisco</td>\n",
       "      <td>CA</td>\n",
       "      <td>Triangle</td>\n",
       "      <td>9/28/97</td>\n",
       "      <td>23:15</td>\n",
       "      <td>Domingo</td>\n",
       "      <td>28</td>\n",
       "      <td>9</td>\n",
       "    </tr>\n",
       "    <tr>\n",
       "      <th>2</th>\n",
       "      <td>Egan</td>\n",
       "      <td>SD</td>\n",
       "      <td>Other</td>\n",
       "      <td>9/27/97</td>\n",
       "      <td>23:00</td>\n",
       "      <td>Sábado</td>\n",
       "      <td>27</td>\n",
       "      <td>9</td>\n",
       "    </tr>\n",
       "    <tr>\n",
       "      <th>3</th>\n",
       "      <td>Crestwood</td>\n",
       "      <td>KY</td>\n",
       "      <td>Disk</td>\n",
       "      <td>9/27/97</td>\n",
       "      <td>05:00</td>\n",
       "      <td>Sábado</td>\n",
       "      <td>27</td>\n",
       "      <td>9</td>\n",
       "    </tr>\n",
       "    <tr>\n",
       "      <th>4</th>\n",
       "      <td>Clearfield</td>\n",
       "      <td>UT</td>\n",
       "      <td>Triangle</td>\n",
       "      <td>9/25/97</td>\n",
       "      <td>22:00</td>\n",
       "      <td>Quinta-feira</td>\n",
       "      <td>25</td>\n",
       "      <td>9</td>\n",
       "    </tr>\n",
       "  </tbody>\n",
       "</table>\n",
       "</div>"
      ],
      "text/plain": [
       "            City State     Shape Sight_Date Sight_Time Sight_Weekday  \\\n",
       "0        Madison    WI     Light    9/30/97      22:00   Terça-feira   \n",
       "1  San Francisco    CA  Triangle    9/28/97      23:15       Domingo   \n",
       "2           Egan    SD     Other    9/27/97      23:00        Sábado   \n",
       "3      Crestwood    KY      Disk    9/27/97      05:00        Sábado   \n",
       "4     Clearfield    UT  Triangle    9/25/97      22:00  Quinta-feira   \n",
       "\n",
       "  Sight_Day Sight_Month  \n",
       "0        30           9  \n",
       "1        28           9  \n",
       "2        27           9  \n",
       "3        27           9  \n",
       "4        25           9  "
      ]
     },
     "execution_count": 16,
     "metadata": {},
     "output_type": "execute_result"
    }
   ],
   "source": [
    "df.head()"
   ]
  },
  {
   "cell_type": "code",
   "execution_count": 17,
   "metadata": {
    "colab": {},
    "colab_type": "code",
    "id": "AiqT10XUt7d5"
   },
   "outputs": [],
   "source": [
    "df.to_csv('df_OVNI_preparado.csv')"
   ]
  }
 ],
 "metadata": {
  "colab": {
   "collapsed_sections": [],
   "include_colab_link": true,
   "name": "5.8-nuforc.ipynb",
   "provenance": []
  },
  "kernelspec": {
   "display_name": "Python 3",
   "language": "python",
   "name": "python3"
  },
  "language_info": {
   "codemirror_mode": {
    "name": "ipython",
    "version": 3
   },
   "file_extension": ".py",
   "mimetype": "text/x-python",
   "name": "python",
   "nbconvert_exporter": "python",
   "pygments_lexer": "ipython3",
   "version": "3.7.3"
  }
 },
 "nbformat": 4,
 "nbformat_minor": 1
}
