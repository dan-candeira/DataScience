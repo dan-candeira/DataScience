{
  "nbformat": 4,
  "nbformat_minor": 0,
  "metadata": {
    "colab": {
      "name": "5.8-nuforc.ipynb",
      "provenance": [],
      "collapsed_sections": [],
      "include_colab_link": true
    },
    "kernelspec": {
      "name": "python3",
      "display_name": "Python 3"
    }
  },
  "cells": [
    {
      "cell_type": "markdown",
      "metadata": {
        "id": "view-in-github",
        "colab_type": "text"
      },
      "source": [
        "<a href=\"https://colab.research.google.com/github/dan-candeira/Nuforc-Project/blob/master/5.8-Adicionando_variaveis/5.8-nuforc.ipynb\" target=\"_parent\"><img src=\"https://colab.research.google.com/assets/colab-badge.svg\" alt=\"Open In Colab\"/></a>"
      ]
    },
    {
      "cell_type": "code",
      "metadata": {
        "id": "9p5UINleHFZi",
        "colab_type": "code",
        "colab": {}
      },
      "source": [
        "import pandas as pd"
      ],
      "execution_count": 0,
      "outputs": []
    },
    {
      "cell_type": "code",
      "metadata": {
        "id": "fv6cqZLlIzEG",
        "colab_type": "code",
        "colab": {}
      },
      "source": [
        "df = pd.read_csv(\n",
        "    'https://raw.githubusercontent.com/dan-candeira/Nuforc-Project/master/5.7-Preparacao/df_OVNI_limpo.csv', \n",
        "    index_col=0)"
      ],
      "execution_count": 0,
      "outputs": []
    },
    {
      "cell_type": "code",
      "metadata": {
        "id": "OrrTYcm-NSOC",
        "colab_type": "code",
        "colab": {}
      },
      "source": [
        "#https://www.geeksforgeeks.org/python-pandas-split-strings-into-two-list-columns-using-str-split/\n",
        "datetime = df['Date / Time'].str.split(\" \", n = 1, expand = True) "
      ],
      "execution_count": 0,
      "outputs": []
    },
    {
      "cell_type": "code",
      "metadata": {
        "id": "b4bssSagax1i",
        "colab_type": "code",
        "outputId": "c6f99a9b-20d8-4f6a-c3a9-c3397da4188e",
        "colab": {
          "base_uri": "https://localhost:8080/",
          "height": 206
        }
      },
      "source": [
        "datetime.head()"
      ],
      "execution_count": 27,
      "outputs": [
        {
          "output_type": "execute_result",
          "data": {
            "text/html": [
              "<div>\n",
              "<style scoped>\n",
              "    .dataframe tbody tr th:only-of-type {\n",
              "        vertical-align: middle;\n",
              "    }\n",
              "\n",
              "    .dataframe tbody tr th {\n",
              "        vertical-align: top;\n",
              "    }\n",
              "\n",
              "    .dataframe thead th {\n",
              "        text-align: right;\n",
              "    }\n",
              "</style>\n",
              "<table border=\"1\" class=\"dataframe\">\n",
              "  <thead>\n",
              "    <tr style=\"text-align: right;\">\n",
              "      <th></th>\n",
              "      <th>0</th>\n",
              "      <th>1</th>\n",
              "    </tr>\n",
              "  </thead>\n",
              "  <tbody>\n",
              "    <tr>\n",
              "      <th>0</th>\n",
              "      <td>9/30/97</td>\n",
              "      <td>22:00</td>\n",
              "    </tr>\n",
              "    <tr>\n",
              "      <th>1</th>\n",
              "      <td>9/28/97</td>\n",
              "      <td>23:15</td>\n",
              "    </tr>\n",
              "    <tr>\n",
              "      <th>2</th>\n",
              "      <td>9/27/97</td>\n",
              "      <td>23:00</td>\n",
              "    </tr>\n",
              "    <tr>\n",
              "      <th>3</th>\n",
              "      <td>9/27/97</td>\n",
              "      <td>05:00</td>\n",
              "    </tr>\n",
              "    <tr>\n",
              "      <th>4</th>\n",
              "      <td>9/25/97</td>\n",
              "      <td>22:00</td>\n",
              "    </tr>\n",
              "  </tbody>\n",
              "</table>\n",
              "</div>"
            ],
            "text/plain": [
              "         0      1\n",
              "0  9/30/97  22:00\n",
              "1  9/28/97  23:15\n",
              "2  9/27/97  23:00\n",
              "3  9/27/97  05:00\n",
              "4  9/25/97  22:00"
            ]
          },
          "metadata": {
            "tags": []
          },
          "execution_count": 27
        }
      ]
    },
    {
      "cell_type": "code",
      "metadata": {
        "id": "NsCy4S6pWwLY",
        "colab_type": "code",
        "colab": {}
      },
      "source": [
        "df['Sight_Date'] = datetime[0]\n",
        "df['Sight_Time'] = datetime[1]"
      ],
      "execution_count": 0,
      "outputs": []
    },
    {
      "cell_type": "code",
      "metadata": {
        "id": "l_ehiVHRa14C",
        "colab_type": "code",
        "outputId": "90ae8895-5f84-4102-decb-3d477d251632",
        "colab": {
          "base_uri": "https://localhost:8080/",
          "height": 206
        }
      },
      "source": [
        "df.head()"
      ],
      "execution_count": 29,
      "outputs": [
        {
          "output_type": "execute_result",
          "data": {
            "text/html": [
              "<div>\n",
              "<style scoped>\n",
              "    .dataframe tbody tr th:only-of-type {\n",
              "        vertical-align: middle;\n",
              "    }\n",
              "\n",
              "    .dataframe tbody tr th {\n",
              "        vertical-align: top;\n",
              "    }\n",
              "\n",
              "    .dataframe thead th {\n",
              "        text-align: right;\n",
              "    }\n",
              "</style>\n",
              "<table border=\"1\" class=\"dataframe\">\n",
              "  <thead>\n",
              "    <tr style=\"text-align: right;\">\n",
              "      <th></th>\n",
              "      <th>Date / Time</th>\n",
              "      <th>City</th>\n",
              "      <th>State</th>\n",
              "      <th>Shape</th>\n",
              "      <th>Sight_Date</th>\n",
              "      <th>Sight_Time</th>\n",
              "    </tr>\n",
              "  </thead>\n",
              "  <tbody>\n",
              "    <tr>\n",
              "      <th>0</th>\n",
              "      <td>9/30/97 22:00</td>\n",
              "      <td>Madison</td>\n",
              "      <td>WI</td>\n",
              "      <td>Light</td>\n",
              "      <td>9/30/97</td>\n",
              "      <td>22:00</td>\n",
              "    </tr>\n",
              "    <tr>\n",
              "      <th>1</th>\n",
              "      <td>9/28/97 23:15</td>\n",
              "      <td>San Francisco</td>\n",
              "      <td>CA</td>\n",
              "      <td>Triangle</td>\n",
              "      <td>9/28/97</td>\n",
              "      <td>23:15</td>\n",
              "    </tr>\n",
              "    <tr>\n",
              "      <th>2</th>\n",
              "      <td>9/27/97 23:00</td>\n",
              "      <td>Egan</td>\n",
              "      <td>SD</td>\n",
              "      <td>Other</td>\n",
              "      <td>9/27/97</td>\n",
              "      <td>23:00</td>\n",
              "    </tr>\n",
              "    <tr>\n",
              "      <th>3</th>\n",
              "      <td>9/27/97 05:00</td>\n",
              "      <td>Crestwood</td>\n",
              "      <td>KY</td>\n",
              "      <td>Disk</td>\n",
              "      <td>9/27/97</td>\n",
              "      <td>05:00</td>\n",
              "    </tr>\n",
              "    <tr>\n",
              "      <th>4</th>\n",
              "      <td>9/25/97 22:00</td>\n",
              "      <td>Clearfield</td>\n",
              "      <td>UT</td>\n",
              "      <td>Triangle</td>\n",
              "      <td>9/25/97</td>\n",
              "      <td>22:00</td>\n",
              "    </tr>\n",
              "  </tbody>\n",
              "</table>\n",
              "</div>"
            ],
            "text/plain": [
              "     Date / Time           City State     Shape Sight_Date Sight_Time\n",
              "0  9/30/97 22:00        Madison    WI     Light    9/30/97      22:00\n",
              "1  9/28/97 23:15  San Francisco    CA  Triangle    9/28/97      23:15\n",
              "2  9/27/97 23:00           Egan    SD     Other    9/27/97      23:00\n",
              "3  9/27/97 05:00      Crestwood    KY      Disk    9/27/97      05:00\n",
              "4  9/25/97 22:00     Clearfield    UT  Triangle    9/25/97      22:00"
            ]
          },
          "metadata": {
            "tags": []
          },
          "execution_count": 29
        }
      ]
    },
    {
      "cell_type": "code",
      "metadata": {
        "id": "Z9YSwNJGXNLR",
        "colab_type": "code",
        "colab": {}
      },
      "source": [
        "del df['Date / Time']"
      ],
      "execution_count": 0,
      "outputs": []
    },
    {
      "cell_type": "code",
      "metadata": {
        "id": "KSKsxAftarxL",
        "colab_type": "code",
        "outputId": "2c283656-1097-4c61-f33b-007afeaea69b",
        "colab": {
          "base_uri": "https://localhost:8080/",
          "height": 206
        }
      },
      "source": [
        "df.head()"
      ],
      "execution_count": 31,
      "outputs": [
        {
          "output_type": "execute_result",
          "data": {
            "text/html": [
              "<div>\n",
              "<style scoped>\n",
              "    .dataframe tbody tr th:only-of-type {\n",
              "        vertical-align: middle;\n",
              "    }\n",
              "\n",
              "    .dataframe tbody tr th {\n",
              "        vertical-align: top;\n",
              "    }\n",
              "\n",
              "    .dataframe thead th {\n",
              "        text-align: right;\n",
              "    }\n",
              "</style>\n",
              "<table border=\"1\" class=\"dataframe\">\n",
              "  <thead>\n",
              "    <tr style=\"text-align: right;\">\n",
              "      <th></th>\n",
              "      <th>City</th>\n",
              "      <th>State</th>\n",
              "      <th>Shape</th>\n",
              "      <th>Sight_Date</th>\n",
              "      <th>Sight_Time</th>\n",
              "    </tr>\n",
              "  </thead>\n",
              "  <tbody>\n",
              "    <tr>\n",
              "      <th>0</th>\n",
              "      <td>Madison</td>\n",
              "      <td>WI</td>\n",
              "      <td>Light</td>\n",
              "      <td>9/30/97</td>\n",
              "      <td>22:00</td>\n",
              "    </tr>\n",
              "    <tr>\n",
              "      <th>1</th>\n",
              "      <td>San Francisco</td>\n",
              "      <td>CA</td>\n",
              "      <td>Triangle</td>\n",
              "      <td>9/28/97</td>\n",
              "      <td>23:15</td>\n",
              "    </tr>\n",
              "    <tr>\n",
              "      <th>2</th>\n",
              "      <td>Egan</td>\n",
              "      <td>SD</td>\n",
              "      <td>Other</td>\n",
              "      <td>9/27/97</td>\n",
              "      <td>23:00</td>\n",
              "    </tr>\n",
              "    <tr>\n",
              "      <th>3</th>\n",
              "      <td>Crestwood</td>\n",
              "      <td>KY</td>\n",
              "      <td>Disk</td>\n",
              "      <td>9/27/97</td>\n",
              "      <td>05:00</td>\n",
              "    </tr>\n",
              "    <tr>\n",
              "      <th>4</th>\n",
              "      <td>Clearfield</td>\n",
              "      <td>UT</td>\n",
              "      <td>Triangle</td>\n",
              "      <td>9/25/97</td>\n",
              "      <td>22:00</td>\n",
              "    </tr>\n",
              "  </tbody>\n",
              "</table>\n",
              "</div>"
            ],
            "text/plain": [
              "            City State     Shape Sight_Date Sight_Time\n",
              "0        Madison    WI     Light    9/30/97      22:00\n",
              "1  San Francisco    CA  Triangle    9/28/97      23:15\n",
              "2           Egan    SD     Other    9/27/97      23:00\n",
              "3      Crestwood    KY      Disk    9/27/97      05:00\n",
              "4     Clearfield    UT  Triangle    9/25/97      22:00"
            ]
          },
          "metadata": {
            "tags": []
          },
          "execution_count": 31
        }
      ]
    },
    {
      "cell_type": "code",
      "metadata": {
        "id": "Y0lxyMKLZb7L",
        "colab_type": "code",
        "colab": {}
      },
      "source": [
        "weekday={\n",
        "    0: 'Segunda-feira',\n",
        "    1: 'Terça-feira',\n",
        "    2: 'Quarta-feira',\n",
        "    3: 'Quinta-feira',\n",
        "    4: 'Sexta-feira',\n",
        "    5: 'Sábado',\n",
        "    6: 'Domingo'}"
      ],
      "execution_count": 0,
      "outputs": []
    },
    {
      "cell_type": "code",
      "metadata": {
        "id": "ezgWqAGnX6_h",
        "colab_type": "code",
        "colab": {}
      },
      "source": [
        "#https://stackoverflow.com/questions/29096381/num-day-to-name-day-with-pandas\n",
        "df['Sight_Weekday'] = pd.to_datetime(df['Sight_Date']).dt.dayofweek.map(weekday)"
      ],
      "execution_count": 0,
      "outputs": []
    },
    {
      "cell_type": "code",
      "metadata": {
        "id": "5SHlxxKu1Z_e",
        "colab_type": "code",
        "outputId": "002da919-9650-4694-e6b5-e8b14c6e97c0",
        "colab": {
          "base_uri": "https://localhost:8080/",
          "height": 206
        }
      },
      "source": [
        "df.head()"
      ],
      "execution_count": 34,
      "outputs": [
        {
          "output_type": "execute_result",
          "data": {
            "text/html": [
              "<div>\n",
              "<style scoped>\n",
              "    .dataframe tbody tr th:only-of-type {\n",
              "        vertical-align: middle;\n",
              "    }\n",
              "\n",
              "    .dataframe tbody tr th {\n",
              "        vertical-align: top;\n",
              "    }\n",
              "\n",
              "    .dataframe thead th {\n",
              "        text-align: right;\n",
              "    }\n",
              "</style>\n",
              "<table border=\"1\" class=\"dataframe\">\n",
              "  <thead>\n",
              "    <tr style=\"text-align: right;\">\n",
              "      <th></th>\n",
              "      <th>City</th>\n",
              "      <th>State</th>\n",
              "      <th>Shape</th>\n",
              "      <th>Sight_Date</th>\n",
              "      <th>Sight_Time</th>\n",
              "      <th>Sight_Weekday</th>\n",
              "    </tr>\n",
              "  </thead>\n",
              "  <tbody>\n",
              "    <tr>\n",
              "      <th>0</th>\n",
              "      <td>Madison</td>\n",
              "      <td>WI</td>\n",
              "      <td>Light</td>\n",
              "      <td>9/30/97</td>\n",
              "      <td>22:00</td>\n",
              "      <td>Terça-feira</td>\n",
              "    </tr>\n",
              "    <tr>\n",
              "      <th>1</th>\n",
              "      <td>San Francisco</td>\n",
              "      <td>CA</td>\n",
              "      <td>Triangle</td>\n",
              "      <td>9/28/97</td>\n",
              "      <td>23:15</td>\n",
              "      <td>Domingo</td>\n",
              "    </tr>\n",
              "    <tr>\n",
              "      <th>2</th>\n",
              "      <td>Egan</td>\n",
              "      <td>SD</td>\n",
              "      <td>Other</td>\n",
              "      <td>9/27/97</td>\n",
              "      <td>23:00</td>\n",
              "      <td>Sábado</td>\n",
              "    </tr>\n",
              "    <tr>\n",
              "      <th>3</th>\n",
              "      <td>Crestwood</td>\n",
              "      <td>KY</td>\n",
              "      <td>Disk</td>\n",
              "      <td>9/27/97</td>\n",
              "      <td>05:00</td>\n",
              "      <td>Sábado</td>\n",
              "    </tr>\n",
              "    <tr>\n",
              "      <th>4</th>\n",
              "      <td>Clearfield</td>\n",
              "      <td>UT</td>\n",
              "      <td>Triangle</td>\n",
              "      <td>9/25/97</td>\n",
              "      <td>22:00</td>\n",
              "      <td>Quinta-feira</td>\n",
              "    </tr>\n",
              "  </tbody>\n",
              "</table>\n",
              "</div>"
            ],
            "text/plain": [
              "            City State     Shape Sight_Date Sight_Time Sight_Weekday\n",
              "0        Madison    WI     Light    9/30/97      22:00   Terça-feira\n",
              "1  San Francisco    CA  Triangle    9/28/97      23:15       Domingo\n",
              "2           Egan    SD     Other    9/27/97      23:00        Sábado\n",
              "3      Crestwood    KY      Disk    9/27/97      05:00        Sábado\n",
              "4     Clearfield    UT  Triangle    9/25/97      22:00  Quinta-feira"
            ]
          },
          "metadata": {
            "tags": []
          },
          "execution_count": 34
        }
      ]
    },
    {
      "cell_type": "code",
      "metadata": {
        "id": "YDc-HB1MZFF7",
        "colab_type": "code",
        "colab": {}
      },
      "source": [
        "day_month = df['Sight_Date'].str.split(\"/\", n = 2, expand = True) "
      ],
      "execution_count": 0,
      "outputs": []
    },
    {
      "cell_type": "code",
      "metadata": {
        "id": "f17l3q3H2rMg",
        "colab_type": "code",
        "outputId": "e2acfcff-c3d0-425c-a776-48d6de91fd05",
        "colab": {
          "base_uri": "https://localhost:8080/",
          "height": 206
        }
      },
      "source": [
        "day_month.head()"
      ],
      "execution_count": 36,
      "outputs": [
        {
          "output_type": "execute_result",
          "data": {
            "text/html": [
              "<div>\n",
              "<style scoped>\n",
              "    .dataframe tbody tr th:only-of-type {\n",
              "        vertical-align: middle;\n",
              "    }\n",
              "\n",
              "    .dataframe tbody tr th {\n",
              "        vertical-align: top;\n",
              "    }\n",
              "\n",
              "    .dataframe thead th {\n",
              "        text-align: right;\n",
              "    }\n",
              "</style>\n",
              "<table border=\"1\" class=\"dataframe\">\n",
              "  <thead>\n",
              "    <tr style=\"text-align: right;\">\n",
              "      <th></th>\n",
              "      <th>0</th>\n",
              "      <th>1</th>\n",
              "      <th>2</th>\n",
              "    </tr>\n",
              "  </thead>\n",
              "  <tbody>\n",
              "    <tr>\n",
              "      <th>0</th>\n",
              "      <td>9</td>\n",
              "      <td>30</td>\n",
              "      <td>97</td>\n",
              "    </tr>\n",
              "    <tr>\n",
              "      <th>1</th>\n",
              "      <td>9</td>\n",
              "      <td>28</td>\n",
              "      <td>97</td>\n",
              "    </tr>\n",
              "    <tr>\n",
              "      <th>2</th>\n",
              "      <td>9</td>\n",
              "      <td>27</td>\n",
              "      <td>97</td>\n",
              "    </tr>\n",
              "    <tr>\n",
              "      <th>3</th>\n",
              "      <td>9</td>\n",
              "      <td>27</td>\n",
              "      <td>97</td>\n",
              "    </tr>\n",
              "    <tr>\n",
              "      <th>4</th>\n",
              "      <td>9</td>\n",
              "      <td>25</td>\n",
              "      <td>97</td>\n",
              "    </tr>\n",
              "  </tbody>\n",
              "</table>\n",
              "</div>"
            ],
            "text/plain": [
              "   0   1   2\n",
              "0  9  30  97\n",
              "1  9  28  97\n",
              "2  9  27  97\n",
              "3  9  27  97\n",
              "4  9  25  97"
            ]
          },
          "metadata": {
            "tags": []
          },
          "execution_count": 36
        }
      ]
    },
    {
      "cell_type": "code",
      "metadata": {
        "id": "KEsQYQXu2x1d",
        "colab_type": "code",
        "colab": {}
      },
      "source": [
        "df['Sight_Day'] = day_month[1]\n",
        "df['Sight_Month'] = day_month[0]"
      ],
      "execution_count": 0,
      "outputs": []
    },
    {
      "cell_type": "code",
      "metadata": {
        "id": "it21nR073IBw",
        "colab_type": "code",
        "outputId": "bb703c76-2ced-406a-b4c7-76cd399a7a7c",
        "colab": {
          "base_uri": "https://localhost:8080/",
          "height": 206
        }
      },
      "source": [
        "df.head()"
      ],
      "execution_count": 38,
      "outputs": [
        {
          "output_type": "execute_result",
          "data": {
            "text/html": [
              "<div>\n",
              "<style scoped>\n",
              "    .dataframe tbody tr th:only-of-type {\n",
              "        vertical-align: middle;\n",
              "    }\n",
              "\n",
              "    .dataframe tbody tr th {\n",
              "        vertical-align: top;\n",
              "    }\n",
              "\n",
              "    .dataframe thead th {\n",
              "        text-align: right;\n",
              "    }\n",
              "</style>\n",
              "<table border=\"1\" class=\"dataframe\">\n",
              "  <thead>\n",
              "    <tr style=\"text-align: right;\">\n",
              "      <th></th>\n",
              "      <th>City</th>\n",
              "      <th>State</th>\n",
              "      <th>Shape</th>\n",
              "      <th>Sight_Date</th>\n",
              "      <th>Sight_Time</th>\n",
              "      <th>Sight_Weekday</th>\n",
              "      <th>Sight_Day</th>\n",
              "      <th>Sight_Month</th>\n",
              "    </tr>\n",
              "  </thead>\n",
              "  <tbody>\n",
              "    <tr>\n",
              "      <th>0</th>\n",
              "      <td>Madison</td>\n",
              "      <td>WI</td>\n",
              "      <td>Light</td>\n",
              "      <td>9/30/97</td>\n",
              "      <td>22:00</td>\n",
              "      <td>Terça-feira</td>\n",
              "      <td>30</td>\n",
              "      <td>9</td>\n",
              "    </tr>\n",
              "    <tr>\n",
              "      <th>1</th>\n",
              "      <td>San Francisco</td>\n",
              "      <td>CA</td>\n",
              "      <td>Triangle</td>\n",
              "      <td>9/28/97</td>\n",
              "      <td>23:15</td>\n",
              "      <td>Domingo</td>\n",
              "      <td>28</td>\n",
              "      <td>9</td>\n",
              "    </tr>\n",
              "    <tr>\n",
              "      <th>2</th>\n",
              "      <td>Egan</td>\n",
              "      <td>SD</td>\n",
              "      <td>Other</td>\n",
              "      <td>9/27/97</td>\n",
              "      <td>23:00</td>\n",
              "      <td>Sábado</td>\n",
              "      <td>27</td>\n",
              "      <td>9</td>\n",
              "    </tr>\n",
              "    <tr>\n",
              "      <th>3</th>\n",
              "      <td>Crestwood</td>\n",
              "      <td>KY</td>\n",
              "      <td>Disk</td>\n",
              "      <td>9/27/97</td>\n",
              "      <td>05:00</td>\n",
              "      <td>Sábado</td>\n",
              "      <td>27</td>\n",
              "      <td>9</td>\n",
              "    </tr>\n",
              "    <tr>\n",
              "      <th>4</th>\n",
              "      <td>Clearfield</td>\n",
              "      <td>UT</td>\n",
              "      <td>Triangle</td>\n",
              "      <td>9/25/97</td>\n",
              "      <td>22:00</td>\n",
              "      <td>Quinta-feira</td>\n",
              "      <td>25</td>\n",
              "      <td>9</td>\n",
              "    </tr>\n",
              "  </tbody>\n",
              "</table>\n",
              "</div>"
            ],
            "text/plain": [
              "            City State     Shape  ... Sight_Weekday Sight_Day Sight_Month\n",
              "0        Madison    WI     Light  ...   Terça-feira        30           9\n",
              "1  San Francisco    CA  Triangle  ...       Domingo        28           9\n",
              "2           Egan    SD     Other  ...        Sábado        27           9\n",
              "3      Crestwood    KY      Disk  ...        Sábado        27           9\n",
              "4     Clearfield    UT  Triangle  ...  Quinta-feira        25           9\n",
              "\n",
              "[5 rows x 8 columns]"
            ]
          },
          "metadata": {
            "tags": []
          },
          "execution_count": 38
        }
      ]
    },
    {
      "cell_type": "code",
      "metadata": {
        "id": "AiqT10XUt7d5",
        "colab_type": "code",
        "colab": {}
      },
      "source": [
        "df.to_csv('df_OVNI_preparado.csv')"
      ],
      "execution_count": 0,
      "outputs": []
    }
  ]
}